{
 "cells": [
  {
   "cell_type": "markdown",
   "id": "ce67cf96-9c06-4d2e-8522-f3b502bca3fa",
   "metadata": {},
   "source": [
    "# Run the following commands to install all the necessary packages"
   ]
  },
  {
   "cell_type": "code",
   "execution_count": 3,
   "id": "9cb64a29-790b-45c2-9dd3-5beaace515bf",
   "metadata": {},
   "outputs": [
    {
     "name": "stdout",
     "output_type": "stream",
     "text": [
      "\u001b[K\u001b[?25hm#########\u001b[0m\u001b[100;90m⠂⠂⠂⠂⠂⠂⠂⠂⠂\u001b[0m) ⠏ reify:fp-ts: \u001b[32;40mtiming\u001b[0m \u001b[35mreify:loadBundles\u001b[0m Completed in 0ms\u001b[0m\u001b[K[0m\u001b[K\n",
      "added 1 package in 631ms\n"
     ]
    }
   ],
   "source": [
    "!npm install fp-ts"
   ]
  }
 ],
 "metadata": {
  "kernelspec": {
   "display_name": "Python 3 (ipykernel)",
   "language": "python",
   "name": "python3"
  },
  "language_info": {
   "codemirror_mode": {
    "name": "ipython",
    "version": 3
   },
   "file_extension": ".py",
   "mimetype": "text/x-python",
   "name": "python",
   "nbconvert_exporter": "python",
   "pygments_lexer": "ipython3",
   "version": "3.11.6"
  }
 },
 "nbformat": 4,
 "nbformat_minor": 5
}
