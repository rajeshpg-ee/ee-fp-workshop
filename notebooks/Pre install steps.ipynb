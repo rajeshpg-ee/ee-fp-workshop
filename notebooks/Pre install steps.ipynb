{
 "cells": [
  {
   "cell_type": "markdown",
   "id": "ce67cf96-9c06-4d2e-8522-f3b502bca3fa",
   "metadata": {},
   "source": [
    "# Run the following commands to install all the necessary packages"
   ]
  },
  {
   "cell_type": "code",
   "execution_count": 1,
   "id": "9cb64a29-790b-45c2-9dd3-5beaace515bf",
   "metadata": {},
   "outputs": [
    {
     "name": "stdout",
     "output_type": "stream",
     "text": [
      "\u001b[K\u001b[?25hm#########\u001b[0m\u001b[100;90m⠂⠂⠂⠂⠂⠂⠂⠂⠂\u001b[0m) ⠴ reify:fp-ts: \u001b[7msill\u001b[0m \u001b[35maudit\u001b[0m bulk request { 'fp-ts': [ '2.16.\u001b[0m\u001b[K\n",
      "added 1 package, and audited 2 packages in 4s\n",
      "\n",
      "found \u001b[32m\u001b[1m0\u001b[22m\u001b[39m vulnerabilities\n"
     ]
    }
   ],
   "source": [
    "!npm install fp-ts"
   ]
  }
 ],
 "metadata": {
  "kernelspec": {
   "display_name": "Python 3 (ipykernel)",
   "language": "python",
   "name": "python3"
  },
  "language_info": {
   "codemirror_mode": {
    "name": "ipython",
    "version": 3
   },
   "file_extension": ".py",
   "mimetype": "text/x-python",
   "name": "python",
   "nbconvert_exporter": "python",
   "pygments_lexer": "ipython3",
   "version": "3.11.6"
  }
 },
 "nbformat": 4,
 "nbformat_minor": 5
}
