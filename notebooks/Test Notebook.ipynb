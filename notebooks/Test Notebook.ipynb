{
 "cells": [
  {
   "cell_type": "code",
   "execution_count": 1,
   "id": "f3263ae0-2e9b-448d-aad8-d3b9093934c0",
   "metadata": {},
   "outputs": [
    {
     "name": "stdout",
     "output_type": "stream",
     "text": [
      "Test\n"
     ]
    }
   ],
   "source": [
    "console.log(\"Test\")"
   ]
  },
  {
   "cell_type": "markdown",
   "id": "ce0c1e38-39b6-421d-90f3-c146342dd135",
   "metadata": {},
   "source": [
    "## If you are getting an error on the below cell, you might want to run the notebook \"Pre install steps.ipynb\""
   ]
  },
  {
   "cell_type": "code",
   "execution_count": 1,
   "id": "dc558c5b-09a1-4f7b-8c61-21b34b10dcfc",
   "metadata": {},
   "outputs": [
    {
     "name": "stdout",
     "output_type": "stream",
     "text": [
      "{ _tag: 'Some', value: 1 }\n"
     ]
    }
   ],
   "source": [
    "import { option } from \"fp-ts\";\n",
    "const value: option.Option<number> = option.some(1);\n",
    "console.log(value);"
   ]
  },
  {
   "cell_type": "code",
   "execution_count": 2,
   "id": "a33a6f9b-db35-4246-a585-4e653c9cdc6b",
   "metadata": {},
   "outputs": [
    {
     "name": "stdout",
     "output_type": "stream",
     "text": [
      "16 16\n"
     ]
    }
   ],
   "source": [
    "import { pipe } from \"fp-ts/function\";\n",
    "const add5 = (x: number) => x + 5;\n",
    "const multiply2 = (x: number) => x * 2;\n",
    "\n",
    "const one = multiply2(add5(3)); // Ok\n",
    "const two = pipe(3, add5, multiply2); // Better\n",
    "\n",
    "console.log(one, two); // 16, 16"
   ]
  }
 ],
 "metadata": {
  "kernelspec": {
   "display_name": "TypeScript",
   "language": "typescript",
   "name": "tslab"
  },
  "language_info": {
   "codemirror_mode": {
    "mode": "typescript",
    "name": "javascript",
    "typescript": true
   },
   "file_extension": ".ts",
   "mimetype": "text/typescript",
   "name": "typescript",
   "version": "3.7.2"
  }
 },
 "nbformat": 4,
 "nbformat_minor": 5
}
