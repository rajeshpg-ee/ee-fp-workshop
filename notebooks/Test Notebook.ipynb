{
 "cells": [
  {
   "cell_type": "markdown",
   "id": "ce0c1e38-39b6-421d-90f3-c146342dd135",
   "metadata": {},
   "source": [
    "## If you are getting an error on the below cell, you might want to run the notebook \"Pre install steps.ipynb\""
   ]
  },
  {
   "cell_type": "code",
   "execution_count": 4,
   "id": "dc558c5b-09a1-4f7b-8c61-21b34b10dcfc",
   "metadata": {},
   "outputs": [
    {
     "name": "stdout",
     "output_type": "stream",
     "text": [
      "Looks like everything is working! You're good to proceed.\n"
     ]
    }
   ],
   "source": [
    "import { option } from \"fp-ts\";\n",
    "const value: option.Option<number> = option.some(1);\n",
    "console.log(\"Looks like everything is working! You're good to proceed.\");"
   ]
  },
  {
   "cell_type": "markdown",
   "id": "e8313127-a4ac-414a-8eec-1dfd9110ebe9",
   "metadata": {},
   "source": [
    "# Functional programming workshop"
   ]
  },
  {
   "cell_type": "markdown",
   "id": "ba0ef88f-85ce-40e4-a6ba-6e8c6003d3a6",
   "metadata": {},
   "source": [
    "## What are functions?\n",
    "### Types of functions\n",
    "1. Impure function\n",
    "2. Pure function\n",
    "\n",
    "Let's try to learn the above concepts with an increment function"
   ]
  },
  {
   "cell_type": "code",
   "execution_count": 9,
   "id": "a33a6f9b-db35-4246-a585-4e653c9cdc6b",
   "metadata": {},
   "outputs": [
    {
     "name": "stdout",
     "output_type": "stream",
     "text": [
      "1\n",
      "2\n",
      "3\n"
     ]
    }
   ],
   "source": [
    "// Impure increment function\n",
    "\n",
    "let counter = 0;\n",
    "const impureIncrement = () => {\n",
    "    counter += 1;\n",
    "    return counter;\n",
    "};\n",
    "console.log(impureIncrement());\n",
    "console.log(impureIncrement());\n",
    "console.log(impureIncrement());"
   ]
  },
  {
   "cell_type": "code",
   "execution_count": 15,
   "id": "711b65f3-c786-4767-ba42-10ad6ad56758",
   "metadata": {},
   "outputs": [
    {
     "name": "stdout",
     "output_type": "stream",
     "text": [
      "0\n",
      "1\n",
      "2\n"
     ]
    }
   ],
   "source": [
    "// Pure increment function\n",
    "const pureIncrement = (counter: number): number => {\n",
    "    return counter + 1;\n",
    "}\n",
    "const initialValue = 0\n",
    "console.log(initialValue);\n",
    "const firstIncrementedValue = pureIncrement(initialValue);\n",
    "console.log(firstIncrementedValue);\n",
    "const secondIncrementedValue = pureIncrement(firstIncrementedValue);\n",
    "console.log(secondIncrementedValue);"
   ]
  }
 ],
 "metadata": {
  "kernelspec": {
   "display_name": "TypeScript",
   "language": "typescript",
   "name": "tslab"
  },
  "language_info": {
   "codemirror_mode": {
    "mode": "typescript",
    "name": "javascript",
    "typescript": true
   },
   "file_extension": ".ts",
   "mimetype": "text/typescript",
   "name": "typescript",
   "version": "3.7.2"
  }
 },
 "nbformat": 4,
 "nbformat_minor": 5
}
